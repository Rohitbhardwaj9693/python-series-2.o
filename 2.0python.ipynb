{
 "cells": [
  {
   "cell_type": "code",
   "execution_count": 7,
   "id": "6ccc182b-3492-41b0-8c22-8ec8abf31e9f",
   "metadata": {},
   "outputs": [
    {
     "name": "stdin",
     "output_type": "stream",
     "text": [
      " rohit\n"
     ]
    },
    {
     "name": "stdout",
     "output_type": "stream",
     "text": [
      "my name is  rohit\n"
     ]
    }
   ],
   "source": [
    "a= input()\n",
    "print(\"my name is \",a)"
   ]
  },
  {
   "cell_type": "code",
   "execution_count": 8,
   "id": "a5373586-bb9f-48fc-aa20-45b3d30cb45b",
   "metadata": {},
   "outputs": [
    {
     "name": "stdin",
     "output_type": "stream",
     "text": [
      "ente your name:-  dvishal\n"
     ]
    },
    {
     "name": "stdout",
     "output_type": "stream",
     "text": [
      "my name is  dvishal\n"
     ]
    }
   ],
   "source": [
    "b= input(\"ente your name:- \")\n",
    "print(\"my name is \",b)"
   ]
  },
  {
   "cell_type": "code",
   "execution_count": 12,
   "id": "a309765f-129b-402e-b4c4-262b779318d4",
   "metadata": {},
   "outputs": [
    {
     "name": "stdin",
     "output_type": "stream",
     "text": [
      "enter your first numer 12\n",
      "enter your second no 100\n"
     ]
    },
    {
     "name": "stdout",
     "output_type": "stream",
     "text": [
      "12100\n"
     ]
    }
   ],
   "source": [
    "x = input(\"enter your first numer\")\n",
    "y = input('enter your second no')\n",
    "print(x+y)"
   ]
  },
  {
   "cell_type": "code",
   "execution_count": 10,
   "id": "65f1d0a6-9f8e-4d06-aa40-fa9bbfa2b9ef",
   "metadata": {},
   "outputs": [
    {
     "name": "stdout",
     "output_type": "stream",
     "text": [
      "112\n"
     ]
    }
   ],
   "source": [
    "print(int(x)+int(y))"
   ]
  },
  {
   "cell_type": "code",
   "execution_count": 11,
   "id": "96793c02-e57b-4250-898c-3bcb85e026fc",
   "metadata": {},
   "outputs": [
    {
     "name": "stdout",
     "output_type": "stream",
     "text": [
      "112.0\n"
     ]
    }
   ],
   "source": [
    "print(float(x)+float(y))"
   ]
  },
  {
   "cell_type": "code",
   "execution_count": null,
   "id": "398599f7-9fb6-46f6-8ce8-4d6df6dc5fa0",
   "metadata": {},
   "outputs": [],
   "source": []
  },
  {
   "cell_type": "code",
   "execution_count": 13,
   "id": "867fbf4f-43f2-40e9-9279-e21324cffcb9",
   "metadata": {},
   "outputs": [
    {
     "name": "stdout",
     "output_type": "stream",
     "text": [
      "rohit\n"
     ]
    }
   ],
   "source": [
    "# string\n",
    "\n",
    "name= \"rohit\"\n",
    "friend = 'vishal'\n",
    "anotherfriend = \"rishi\"\n",
    "print(name)"
   ]
  },
  {
   "cell_type": "code",
   "execution_count": 23,
   "id": "fd6b3b2a-f630-4e9e-93a8-8a6d47e4ef5a",
   "metadata": {},
   "outputs": [
    {
     "data": {
      "text/plain": [
       "'rohit'"
      ]
     },
     "execution_count": 23,
     "metadata": {},
     "output_type": "execute_result"
    }
   ],
   "source": [
    "name"
   ]
  },
  {
   "cell_type": "code",
   "execution_count": 20,
   "id": "f8172ec6-c5dc-45e7-b94c-6a33bb7a4b5b",
   "metadata": {},
   "outputs": [
    {
     "name": "stdout",
     "output_type": "stream",
     "text": [
      "hello  rohit\n"
     ]
    }
   ],
   "source": [
    "print('hello  ' + name)"
   ]
  },
  {
   "cell_type": "code",
   "execution_count": 30,
   "id": "80ad8bfb-8feb-4f9e-8a43-9b89e9fc7187",
   "metadata": {},
   "outputs": [],
   "source": [
    "apple  = \"he said , ' i want to eat an apple\""
   ]
  },
  {
   "cell_type": "code",
   "execution_count": 31,
   "id": "a45e62a6-0641-4c21-b486-067da08a41cd",
   "metadata": {},
   "outputs": [
    {
     "data": {
      "text/plain": [
       "\"he said , ' i want to eat an apple\""
      ]
     },
     "execution_count": 31,
     "metadata": {},
     "output_type": "execute_result"
    }
   ],
   "source": [
    "apple"
   ]
  },
  {
   "cell_type": "code",
   "execution_count": 25,
   "id": "77b3cba0-8f01-4a5a-a94b-463fd896810d",
   "metadata": {},
   "outputs": [
    {
     "ename": "SyntaxError",
     "evalue": "invalid syntax (4157954864.py, line 1)",
     "output_type": "error",
     "traceback": [
      "\u001b[0;36m  Cell \u001b[0;32mIn[25], line 1\u001b[0;36m\u001b[0m\n\u001b[0;31m    hy rohit\u001b[0m\n\u001b[0m       ^\u001b[0m\n\u001b[0;31mSyntaxError\u001b[0m\u001b[0;31m:\u001b[0m invalid syntax\n"
     ]
    }
   ],
   "source": [
    " hy rohit \n",
    "    what are you doing "
   ]
  },
  {
   "cell_type": "code",
   "execution_count": 26,
   "id": "ea7b890b-0b14-4b30-a0a6-ca55823900eb",
   "metadata": {},
   "outputs": [],
   "source": [
    "str = ''' rohit is a good boy and h is doing well\n",
    "now thes day '''"
   ]
  },
  {
   "cell_type": "code",
   "execution_count": 27,
   "id": "48aa47b4-9717-4861-b587-35af8f14a5f1",
   "metadata": {},
   "outputs": [
    {
     "data": {
      "text/plain": [
       "' rohit is a good boy and h is doing well\\nnow thes day '"
      ]
     },
     "execution_count": 27,
     "metadata": {},
     "output_type": "execute_result"
    }
   ],
   "source": [
    "str"
   ]
  },
  {
   "cell_type": "code",
   "execution_count": 28,
   "id": "4a7a03f9-2454-4f36-afd8-6d764de66272",
   "metadata": {},
   "outputs": [
    {
     "name": "stdout",
     "output_type": "stream",
     "text": [
      "r\n"
     ]
    }
   ],
   "source": [
    "print(name[0])"
   ]
  },
  {
   "cell_type": "code",
   "execution_count": 28,
   "id": "5b27986f-3e39-49f9-bc9b-70c4b1fd9151",
   "metadata": {},
   "outputs": [
    {
     "data": {
      "text/plain": [
       "5"
      ]
     },
     "execution_count": 28,
     "metadata": {},
     "output_type": "execute_result"
    }
   ],
   "source": [
    "len(name)"
   ]
  },
  {
   "cell_type": "code",
   "execution_count": 29,
   "id": "8dc71aef-a4c8-42aa-be87-9c08112a93f0",
   "metadata": {},
   "outputs": [
    {
     "name": "stdout",
     "output_type": "stream",
     "text": [
      "o\n"
     ]
    }
   ],
   "source": [
    "print(name[1])"
   ]
  },
  {
   "cell_type": "code",
   "execution_count": 30,
   "id": "1f6b4c85-7d7e-45d1-acfe-8144898d63a8",
   "metadata": {},
   "outputs": [
    {
     "name": "stdout",
     "output_type": "stream",
     "text": [
      "t\n"
     ]
    }
   ],
   "source": [
    "print(name[4])"
   ]
  },
  {
   "cell_type": "code",
   "execution_count": null,
   "id": "f09c791d-93a8-411d-bb7c-99bf4a476307",
   "metadata": {},
   "outputs": [],
   "source": [
    "print()"
   ]
  },
  {
   "cell_type": "code",
   "execution_count": 31,
   "id": "bd9ca17f-171f-4045-8667-4938916bd6bb",
   "metadata": {},
   "outputs": [
    {
     "ename": "IndexError",
     "evalue": "string index out of range",
     "output_type": "error",
     "traceback": [
      "\u001b[0;31m---------------------------------------------------------------------------\u001b[0m",
      "\u001b[0;31mIndexError\u001b[0m                                Traceback (most recent call last)",
      "Cell \u001b[0;32mIn[31], line 1\u001b[0m\n\u001b[0;32m----> 1\u001b[0m \u001b[38;5;28mprint\u001b[39m(\u001b[43mname\u001b[49m\u001b[43m[\u001b[49m\u001b[38;5;241;43m5\u001b[39;49m\u001b[43m]\u001b[49m)\n",
      "\u001b[0;31mIndexError\u001b[0m: string index out of range"
     ]
    }
   ],
   "source": [
    "print(name[5]) # tis thro in arrer"
   ]
  },
  {
   "cell_type": "code",
   "execution_count": 32,
   "id": "4281aeef-cef7-466f-a794-53b6c4964b5b",
   "metadata": {},
   "outputs": [
    {
     "name": "stdout",
     "output_type": "stream",
     "text": [
      "h\n",
      "e\n",
      " \n",
      "s\n",
      "a\n",
      "i\n",
      "d\n",
      " \n",
      ",\n",
      " \n",
      "'\n",
      " \n",
      "i\n",
      " \n",
      "w\n",
      "a\n",
      "n\n",
      "t\n",
      " \n",
      "t\n",
      "o\n",
      " \n",
      "e\n",
      "a\n",
      "t\n",
      " \n",
      "a\n",
      "n\n",
      " \n",
      "a\n",
      "p\n",
      "p\n",
      "l\n",
      "e\n"
     ]
    }
   ],
   "source": [
    "for character in apple:\n",
    "    print(character)"
   ]
  },
  {
   "cell_type": "code",
   "execution_count": 32,
   "id": "d52fbaa0-433b-4dc1-b3a1-5340a95d730b",
   "metadata": {},
   "outputs": [
    {
     "data": {
      "text/plain": [
       "34"
      ]
     },
     "execution_count": 32,
     "metadata": {},
     "output_type": "execute_result"
    }
   ],
   "source": [
    "len(apple)"
   ]
  },
  {
   "cell_type": "code",
   "execution_count": 38,
   "id": "cb248ad6-939c-43ea-ace7-f967849602e0",
   "metadata": {},
   "outputs": [
    {
     "name": "stdout",
     "output_type": "stream",
     "text": [
      "12\n",
      "rohit, rishi\n"
     ]
    }
   ],
   "source": [
    "name = \"rohit, rishi\"\n",
    "print(len(name))\n",
    "print(name[0:12])"
   ]
  },
  {
   "cell_type": "code",
   "execution_count": 41,
   "id": "bf831db5-e1a6-4bd8-a7a2-ba3c72fa38a3",
   "metadata": {},
   "outputs": [
    {
     "name": "stdout",
     "output_type": "stream",
     "text": [
      "6\n",
      "bana\n"
     ]
    }
   ],
   "source": [
    "frute = 'banana'\n",
    "print(len(frute))\n",
    "print(frute[0:4])  # if i inot a assine o"
   ]
  },
  {
   "cell_type": "code",
   "execution_count": 42,
   "id": "efb8f512-c21c-4d8d-a5ac-5712ffd0ae8b",
   "metadata": {},
   "outputs": [
    {
     "name": "stdout",
     "output_type": "stream",
     "text": [
      "anana\n"
     ]
    }
   ],
   "source": [
    "print(frute[1:6])"
   ]
  },
  {
   "cell_type": "code",
   "execution_count": 44,
   "id": "68ee3cbf-2b6c-4100-a9ed-66e912da0d1d",
   "metadata": {},
   "outputs": [
    {
     "name": "stdout",
     "output_type": "stream",
     "text": [
      "ananab\n"
     ]
    }
   ],
   "source": [
    "print(frute[::-1])"
   ]
  },
  {
   "cell_type": "code",
   "execution_count": 60,
   "id": "60dec961-f3af-40ac-a48e-08fc38b847e5",
   "metadata": {},
   "outputs": [
    {
     "name": "stdout",
     "output_type": "stream",
     "text": [
      "banan\n"
     ]
    }
   ],
   "source": [
    "print(frute[0:len(frute)-1])"
   ]
  },
  {
   "cell_type": "code",
   "execution_count": 71,
   "id": "a85ec8df-631e-4e68-8695-79996c3d973a",
   "metadata": {},
   "outputs": [
    {
     "name": "stdout",
     "output_type": "stream",
     "text": [
      "b\n"
     ]
    }
   ],
   "source": [
    "print(frute[])"
   ]
  },
  {
   "cell_type": "code",
   "execution_count": 72,
   "id": "b8a23b97-e6fe-435f-b7f4-0df9da4d4a9d",
   "metadata": {},
   "outputs": [
    {
     "data": {
      "text/plain": [
       "range(0, 6)"
      ]
     },
     "execution_count": 72,
     "metadata": {},
     "output_type": "execute_result"
    }
   ],
   "source": [
    "range(len(frute))"
   ]
  },
  {
   "cell_type": "code",
   "execution_count": 86,
   "id": "791039b6-b51f-426d-998b-66eb0de64749",
   "metadata": {},
   "outputs": [
    {
     "name": "stdout",
     "output_type": "stream",
     "text": [
      "ananab\n"
     ]
    }
   ],
   "source": [
    "print(frute[::-1])"
   ]
  },
  {
   "cell_type": "code",
   "execution_count": 87,
   "id": "35edde29-6820-434b-b6ed-c5edbfebf9ba",
   "metadata": {},
   "outputs": [
    {
     "name": "stdout",
     "output_type": "stream",
     "text": [
      "ar\n"
     ]
    }
   ],
   "source": [
    "mn = 'harry'\n",
    "print(mn[-4:-2])"
   ]
  },
  {
   "cell_type": "code",
   "execution_count": 104,
   "id": "bfba2e90-b251-47c3-8d04-65b0f5930781",
   "metadata": {},
   "outputs": [
    {
     "name": "stdout",
     "output_type": "stream",
     "text": [
      "tiho\n"
     ]
    }
   ],
   "source": [
    "stri = \"rohit\"\n",
    "print(stri[-1:-5:-1])"
   ]
  },
  {
   "cell_type": "code",
   "execution_count": null,
   "id": "c5f58b31-f7fc-4d2a-8151-f9dc6c56bec6",
   "metadata": {},
   "outputs": [],
   "source": []
  },
  {
   "cell_type": "code",
   "execution_count": 53,
   "id": "ee502cdb-af93-4ffe-b094-459554feab67",
   "metadata": {},
   "outputs": [
    {
     "name": "stdout",
     "output_type": "stream",
     "text": [
      "5\n",
      "ROHIT\n",
      "rohit\n",
      "!!!Rohit!!!!!!!!\n",
      "Rohit\n",
      "vishal\n",
      "['Rohit']\n",
      "Introduction to python\n",
      "            Welcome to the console!!!             \n",
      "3\n",
      "True\n",
      "6\n",
      "True @\n",
      "True %\n",
      "True *\n",
      "True #\n",
      "True\n"
     ]
    }
   ],
   "source": [
    "# string method\n",
    "\n",
    "# string are imutable\n",
    "a = 'Rohit'\n",
    "print(len(a))\n",
    "print(a.upper())\n",
    "print(a.lower())\n",
    "\n",
    "# rstrip\n",
    "a1 = '!!!Rohit!!!!!!!!'\n",
    "print(a1)\n",
    "print(a.rstrip('!'))\n",
    "\n",
    "# replace\n",
    "print(a.replace('Rohit','vishal'))\n",
    "\n",
    "# split\n",
    "print(a.split(' '))\n",
    "\n",
    "# capitalize\n",
    "blog = 'introduction to python'\n",
    "print(blog.capitalize())\n",
    "\n",
    "# center\n",
    "str1 = 'Welcome to the console!!!'\n",
    "print(str1.center(50))\n",
    "\n",
    "# count\n",
    "b= 'rohit and rohit or rohit'\n",
    "print(b.count('rohit'))\n",
    "\n",
    "# endswith\n",
    "\n",
    "print(str1.endswith(''))\n",
    "\n",
    "# find\n",
    "str2 = 'he is name is rohit.he is an honest'\n",
    "print(str2.find('name'))\n",
    "\n",
    "# index \n",
    "#print(str2.index('ishh'))\n",
    "\n",
    "# isalnuum() # to find alphanumeric\n",
    "\n",
    "str3 = 'WelcomeTheconsole1'\n",
    "print(str3.isalnum(),'@')\n",
    "\n",
    "# isalpha()\n",
    "str4 = 'welcome'\n",
    "print(str4.isalpha(),'%')\n",
    "\n",
    "# islower\n",
    "str5 = 'rohit'\n",
    "print(str5.islower(),'*')\n",
    "\n",
    "# isprintable\n",
    "str6 = 'rohit45 '\n",
    "print(str6.isprintable(),\"#\")\n",
    "\n",
    "# istitle\n",
    "str7 =\" World Health Orgination\"\n",
    "print(str7.istitle())"
   ]
  },
  {
   "cell_type": "code",
   "execution_count": null,
   "id": "43b047d5-3389-4e66-bb53-73ad1002acc2",
   "metadata": {},
   "outputs": [],
   "source": []
  },
  {
   "cell_type": "code",
   "execution_count": null,
   "id": "66ca8375-6d7e-46a1-8914-c6a441398946",
   "metadata": {},
   "outputs": [
    {
     "name": "stdout",
     "output_type": "stream",
     "text": [
      "False\n",
      "True\n",
      "False\n"
     ]
    }
   ],
   "source": [
    "# if ,elif,else conditional statement\n",
    "# conditional operator \n",
    "# >,<,>=,<=,==,!=\n",
    "\n",
    "# print(0>10)\n",
    "# print(0<10)\n",
    "# print(0>=10)\n",
    "\n",
    "a = int(input('enter your age'))\n",
    "print('your age is :',a)\n",
    "if (a>18):\n",
    "    print(\"you can derive\")\n",
    "    print('yes')\n",
    "    \n",
    "else :\n",
    "    print('you can not drive')\n",
    "    print(\"no\")\n",
    "print('no mattter about indetation or statemrnt')"
   ]
  },
  {
   "cell_type": "code",
   "execution_count": 3,
   "id": "c3611987-d9a6-4651-b26d-eda77ef2cd18",
   "metadata": {},
   "outputs": [
    {
     "name": "stdout",
     "output_type": "stream",
     "text": [
      "rohit do not add apple to the cart\n"
     ]
    }
   ],
   "source": [
    "apple_price = 210\n",
    "budget = 200\n",
    "if (apple_price <= budget):\n",
    "    print('Rohit add 1 kg apple to the cart')\n",
    "\n",
    "else : \n",
    "    print(\"rohit do not add apple to the cart\")"
   ]
  },
  {
   "cell_type": "code",
   "execution_count": 5,
   "id": "f29bf628-3931-4c41-a494-80d40105d5af",
   "metadata": {},
   "outputs": [
    {
     "name": "stdin",
     "output_type": "stream",
     "text": [
      "enter your number 999\n"
     ]
    },
    {
     "name": "stdout",
     "output_type": "stream",
     "text": [
      "number is special\n",
      "all done i am happy\n"
     ]
    }
   ],
   "source": [
    "# elif \n",
    "\n",
    "num = int(input(\"enter your number\"))\n",
    "if num<0:\n",
    "    print('number is negative')\n",
    "\n",
    "elif num == 0:\n",
    "    print(\"number is zero\")\n",
    "elif num ==999:\n",
    "    print(\"number is special\")\n",
    "else :\n",
    "    print('number is posative')\n",
    "print(\"all done i am happy\")    "
   ]
  },
  {
   "cell_type": "code",
   "execution_count": 5,
   "id": "4e3cb8bc-d819-42a8-95ed-707da4abd778",
   "metadata": {},
   "outputs": [
    {
     "name": "stdin",
     "output_type": "stream",
     "text": [
      "enter your number 0\n"
     ]
    },
    {
     "name": "stdout",
     "output_type": "stream",
     "text": [
      "number is zero\n"
     ]
    }
   ],
   "source": [
    "num1 = int(input(\"enter your number\"))\n",
    "if num1<0:\n",
    "    print('number is negative')\n",
    "elif num1>0:\n",
    "    if num1<=10:\n",
    "        print('number is between 1- 10')\n",
    "    elif num1 > 10 and num1 <= 20:\n",
    "        print('number is between 11-20')\n",
    "    else :\n",
    "        print('number is grater than 20')\n",
    "else :\n",
    "    print('number is zero')"
   ]
  },
  {
   "cell_type": "code",
   "execution_count": 17,
   "id": "2ec4ce57-ade0-406c-a1c0-20ba7971b15f",
   "metadata": {},
   "outputs": [],
   "source": [
    "c=0+1"
   ]
  },
  {
   "cell_type": "code",
   "execution_count": 18,
   "id": "2ead3886-33ae-423f-a0fe-ea90956ccdf4",
   "metadata": {},
   "outputs": [
    {
     "data": {
      "text/plain": [
       "1"
      ]
     },
     "execution_count": 18,
     "metadata": {},
     "output_type": "execute_result"
    }
   ],
   "source": [
    "c"
   ]
  },
  {
   "cell_type": "code",
   "execution_count": null,
   "id": "5b8db91a-b9d1-46d1-8e12-9a91104c43cf",
   "metadata": {},
   "outputs": [],
   "source": []
  }
 ],
 "metadata": {
  "kernelspec": {
   "display_name": "Python 3 (ipykernel)",
   "language": "python",
   "name": "python3"
  },
  "language_info": {
   "codemirror_mode": {
    "name": "ipython",
    "version": 3
   },
   "file_extension": ".py",
   "mimetype": "text/x-python",
   "name": "python",
   "nbconvert_exporter": "python",
   "pygments_lexer": "ipython3",
   "version": "3.10.8"
  }
 },
 "nbformat": 4,
 "nbformat_minor": 5
}
